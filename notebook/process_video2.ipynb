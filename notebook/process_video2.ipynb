{
 "cells": [
  {
   "cell_type": "code",
   "execution_count": 5,
   "id": "e32d2767",
   "metadata": {},
   "outputs": [],
   "source": [
    "import os\n",
    "import cv2\n",
    "import csv\n",
    "from scenedetect import VideoManager, SceneManager\n",
    "from scenedetect.detectors import ContentDetector\n",
    "\n",
    "def detect_scenes(video_path):\n",
    "    video_manager = VideoManager([video_path])\n",
    "    scene_manager = SceneManager()\n",
    "    scene_manager.add_detector(ContentDetector(threshold=30.0))\n",
    "\n",
    "    video_manager.set_downscale_factor()\n",
    "    video_manager.start()\n",
    "\n",
    "    scene_manager.detect_scenes(frame_source=video_manager)\n",
    "    scene_list = scene_manager.get_scene_list()\n",
    "    print(f\"[INFO] Detected {len(scene_list)} scenes.\")\n",
    "    video_manager.release()\n",
    "    return scene_list\n",
    "\n",
    "\n",
    "def extract_frames_per_scene(video_path, scene_list, output_dir, fps=0.5, save_csv=True):\n",
    "    if not os.path.exists(output_dir):\n",
    "        os.makedirs(output_dir)\n",
    "\n",
    "    cap = cv2.VideoCapture(video_path)\n",
    "    original_fps = cap.get(cv2.CAP_PROP_FPS)\n",
    "\n",
    "    metadata = []\n",
    "\n",
    "    for i, (start_time, end_time) in enumerate(scene_list):\n",
    "        scene_start_frame = int(start_time.get_seconds() * original_fps)\n",
    "        scene_end_frame = int(end_time.get_seconds() * original_fps)\n",
    "        step = int(original_fps / fps)  # ⬅ this is now large for low fps (e.g., 60 if 30fps input and 0.5 fps target)\n",
    "\n",
    "        cap.set(cv2.CAP_PROP_POS_FRAMES, scene_start_frame)\n",
    "        frame_id = scene_start_frame\n",
    "        frame_count = 0\n",
    "\n",
    "        while frame_id < scene_end_frame:\n",
    "            cap.set(cv2.CAP_PROP_POS_FRAMES, frame_id)\n",
    "            ret, frame = cap.read()\n",
    "            if not ret:\n",
    "                break\n",
    "\n",
    "            timestamp_sec = frame_id / original_fps\n",
    "            out_filename = f'scene_{i:03}_frame_{frame_count:04}.jpg'\n",
    "            out_path = os.path.join(output_dir, out_filename)\n",
    "            cv2.imwrite(out_path, frame)\n",
    "\n",
    "            metadata.append({\n",
    "                \"scene\": i,\n",
    "                \"frame_count\": frame_count,\n",
    "                \"frame_id\": frame_id,\n",
    "                \"timestamp_sec\": round(timestamp_sec, 3),\n",
    "                \"file_name\": out_filename\n",
    "            })\n",
    "\n",
    "            frame_id += step\n",
    "            frame_count += 1\n",
    "\n",
    "    cap.release()\n",
    "    print(f\"[INFO] Frames saved in {output_dir}\")\n",
    "\n",
    "    if save_csv and metadata:\n",
    "        csv_path = os.path.join(output_dir, \"frame_metadata.csv\")\n",
    "        with open(csv_path, mode='w', newline='') as csv_file:\n",
    "            writer = csv.DictWriter(csv_file, fieldnames=metadata[0].keys())\n",
    "            writer.writeheader()\n",
    "            writer.writerows(metadata)\n",
    "        print(f\"[INFO] Frame metadata saved to {csv_path}\")\n",
    "\n"
   ]
  },
  {
   "cell_type": "code",
   "execution_count": 2,
   "id": "a30b53be",
   "metadata": {},
   "outputs": [
    {
     "name": "stderr",
     "output_type": "stream",
     "text": [
      "VideoManager is deprecated and will be removed.\n"
     ]
    },
    {
     "name": "stdout",
     "output_type": "stream",
     "text": [
      "[INFO] Detected 47 scenes.\n"
     ]
    }
   ],
   "source": [
    "# ==== MAIN ====\n",
    "video_path = \"../notebook/input.mp4\"\n",
    "output_dir = \"output_frames\"\n",
    "\n",
    "# 1. Detect scenes\n",
    "scene_list = detect_scenes(video_path)"
   ]
  },
  {
   "cell_type": "code",
   "execution_count": 6,
   "id": "8e2d18a4",
   "metadata": {},
   "outputs": [
    {
     "name": "stdout",
     "output_type": "stream",
     "text": [
      "[INFO] Frames saved in output_frames\n",
      "[INFO] Frame metadata saved to output_frames\\frame_metadata.csv\n"
     ]
    }
   ],
   "source": [
    "# 2. Extract 2 frames per second from each scene\n",
    "extract_frames_per_scene(video_path, scene_list, output_dir, fps=0.5)"
   ]
  },
  {
   "cell_type": "code",
   "execution_count": 12,
   "id": "abc5ac9f",
   "metadata": {},
   "outputs": [],
   "source": [
    "import clip\n",
    "import torch\n",
    "from PIL import Image\n",
    "from tqdm import tqdm\n",
    "\n",
    "device = \"cuda\" if torch.cuda.is_available() else \"cpu\"\n",
    "\n",
    "# Load the model (ViT-B/32 is fast, ViT-L/14 is more accurate)\n",
    "model, preprocess = clip.load(\"ViT-B/32\", device=device)\n"
   ]
  },
  {
   "cell_type": "code",
   "execution_count": 2,
   "id": "f0f543d5",
   "metadata": {},
   "outputs": [],
   "source": [
    "def get_image_embedding(image_path):\n",
    "    image = preprocess(Image.open(image_path).convert(\"RGB\")).unsqueeze(0).to(device)\n",
    "    with torch.no_grad():\n",
    "        image_features = model.encode_image(image)\n",
    "    return image_features.cpu().numpy()[0]  # Shape: (512,)\n"
   ]
  },
  {
   "cell_type": "code",
   "execution_count": 3,
   "id": "c881b4ed",
   "metadata": {},
   "outputs": [],
   "source": [
    "def get_image_embeddings_batch(image_paths, batch_size=32):\n",
    "    all_embeddings = []\n",
    "    for i in tqdm(range(0, len(image_paths), batch_size), desc=\"Extracting CLIP embeddings\"):\n",
    "        batch_paths = image_paths[i:i+batch_size]\n",
    "        batch_images = [preprocess(Image.open(p).convert(\"RGB\")) for p in batch_paths]\n",
    "        batch_tensor = torch.stack(batch_images).to(device)\n",
    "        with torch.no_grad():\n",
    "            batch_features = model.encode_image(batch_tensor).cpu().numpy()\n",
    "        all_embeddings.extend(batch_features)\n",
    "    return all_embeddings  # Shape: (N, 512)\n",
    "\n",
    "def get_text_embedding(text_query):\n",
    "    text = clip.tokenize([text_query]).to(device)\n",
    "    with torch.no_grad():\n",
    "        text_features = model.encode_text(text)\n",
    "    return text_features.cpu().numpy()[0]\n",
    "\n",
    "\n",
    "from sklearn.metrics.pairwise import cosine_similarity\n",
    "\n",
    "def find_similar_images(text_query, image_embeddings, image_paths, top_k=5):\n",
    "    text_emb = get_text_embedding(text_query)\n",
    "    sims = cosine_similarity([text_emb], image_embeddings)[0]\n",
    "    top_indices = sims.argsort()[-top_k:][::-1]\n",
    "    return [(image_paths[i], sims[i]) for i in top_indices]\n"
   ]
  },
  {
   "cell_type": "code",
   "execution_count": 5,
   "id": "60712cae",
   "metadata": {},
   "outputs": [
    {
     "name": "stderr",
     "output_type": "stream",
     "text": [
      "Extracting CLIP embeddings: 100%|██████████| 10/10 [00:14<00:00,  1.48s/it]\n"
     ]
    }
   ],
   "source": [
    "import os\n",
    "\n",
    "image_folder = \"../notebook/output_frames/\"  # Replace with your folder\n",
    "image_paths = [os.path.join(image_folder, f) for f in os.listdir(image_folder) if f.lower().endswith(('png', 'jpg', 'jpeg'))]\n",
    "\n",
    "image_embeddings = get_image_embeddings_batch(image_paths)"
   ]
  },
  {
   "cell_type": "code",
   "execution_count": null,
   "id": "0f0363eb",
   "metadata": {},
   "outputs": [
    {
     "ename": "AttributeError",
     "evalue": "'list' object has no attribute 'T'",
     "output_type": "error",
     "traceback": [
      "\u001b[1;31m---------------------------------------------------------------------------\u001b[0m",
      "\u001b[1;31mAttributeError\u001b[0m                            Traceback (most recent call last)",
      "Cell \u001b[1;32mIn[26], line 1\u001b[0m\n\u001b[1;32m----> 1\u001b[0m \u001b[43mimage_embeddings\u001b[49m\u001b[38;5;241;43m.\u001b[39;49m\u001b[43mT\u001b[49m\n",
      "\u001b[1;31mAttributeError\u001b[0m: 'list' object has no attribute 'T'"
     ]
    }
   ],
   "source": []
  },
  {
   "cell_type": "code",
   "execution_count": 23,
   "id": "cb1585db",
   "metadata": {},
   "outputs": [
    {
     "name": "stdout",
     "output_type": "stream",
     "text": [
      "../notebook/output_frames/scene_015_frame_0002.jpg (score: 0.2983)\n",
      "../notebook/output_frames/scene_015_frame_0001.jpg (score: 0.2969)\n",
      "../notebook/output_frames/scene_003_frame_0001.jpg (score: 0.2929)\n",
      "../notebook/output_frames/scene_003_frame_0000.jpg (score: 0.2904)\n",
      "../notebook/output_frames/scene_027_frame_0003.jpg (score: 0.2716)\n"
     ]
    }
   ],
   "source": [
    "query = \"transformer architecture paper\"\n",
    "results = find_similar_images(query, image_embeddings, image_paths)\n",
    "\n",
    "for path, score in results:\n",
    "    print(f\"{path} (score: {score:.4f})\")"
   ]
  },
  {
   "cell_type": "code",
   "execution_count": 36,
   "id": "4a25e604",
   "metadata": {},
   "outputs": [
    {
     "data": {
      "text/plain": [
       "(512, 299)"
      ]
     },
     "execution_count": 36,
     "metadata": {},
     "output_type": "execute_result"
    }
   ],
   "source": [
    "image_embeddings[0].shape[0], len(image_embeddings)"
   ]
  }
 ],
 "metadata": {
  "kernelspec": {
   "display_name": "env",
   "language": "python",
   "name": "python3"
  },
  "language_info": {
   "codemirror_mode": {
    "name": "ipython",
    "version": 3
   },
   "file_extension": ".py",
   "mimetype": "text/x-python",
   "name": "python",
   "nbconvert_exporter": "python",
   "pygments_lexer": "ipython3",
   "version": "3.10.0"
  }
 },
 "nbformat": 4,
 "nbformat_minor": 5
}
